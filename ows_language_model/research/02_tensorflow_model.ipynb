{
 "cells": [
  {
   "cell_type": "code",
   "execution_count": 19,
   "metadata": {
    "scrolled": true
   },
   "outputs": [
    {
     "name": "stdout",
     "output_type": "stream",
     "text": [
      "Requirement already satisfied: tensorflow in /Users/henrymaguire/Work/side-projects/one-word-story/ows_language_model/venv/lib/python3.7/site-packages (2.3.1)\n",
      "Collecting keras\n",
      "  Using cached https://files.pythonhosted.org/packages/44/e1/dc0757b20b56c980b5553c1b5c4c32d378c7055ab7bfa92006801ad359ab/Keras-2.4.3-py2.py3-none-any.whl\n",
      "Requirement already satisfied: termcolor>=1.1.0 in /Users/henrymaguire/Work/side-projects/one-word-story/ows_language_model/venv/lib/python3.7/site-packages (from tensorflow) (1.1.0)\n",
      "Requirement already satisfied: google-pasta>=0.1.8 in /Users/henrymaguire/Work/side-projects/one-word-story/ows_language_model/venv/lib/python3.7/site-packages (from tensorflow) (0.2.0)\n",
      "Requirement already satisfied: tensorflow-estimator<2.4.0,>=2.3.0 in /Users/henrymaguire/Work/side-projects/one-word-story/ows_language_model/venv/lib/python3.7/site-packages (from tensorflow) (2.3.0)\n",
      "Requirement already satisfied: protobuf>=3.9.2 in /Users/henrymaguire/Work/side-projects/one-word-story/ows_language_model/venv/lib/python3.7/site-packages (from tensorflow) (3.13.0)\n",
      "Requirement already satisfied: h5py<2.11.0,>=2.10.0 in /Users/henrymaguire/Work/side-projects/one-word-story/ows_language_model/venv/lib/python3.7/site-packages (from tensorflow) (2.10.0)\n",
      "Requirement already satisfied: six>=1.12.0 in /Users/henrymaguire/Work/side-projects/one-word-story/ows_language_model/venv/lib/python3.7/site-packages (from tensorflow) (1.15.0)\n",
      "Requirement already satisfied: tensorboard<3,>=2.3.0 in /Users/henrymaguire/Work/side-projects/one-word-story/ows_language_model/venv/lib/python3.7/site-packages (from tensorflow) (2.3.0)\n",
      "Requirement already satisfied: wrapt>=1.11.1 in /Users/henrymaguire/Work/side-projects/one-word-story/ows_language_model/venv/lib/python3.7/site-packages (from tensorflow) (1.12.1)\n",
      "Requirement already satisfied: keras-preprocessing<1.2,>=1.1.1 in /Users/henrymaguire/Work/side-projects/one-word-story/ows_language_model/venv/lib/python3.7/site-packages (from tensorflow) (1.1.2)\n",
      "Requirement already satisfied: gast==0.3.3 in /Users/henrymaguire/Work/side-projects/one-word-story/ows_language_model/venv/lib/python3.7/site-packages (from tensorflow) (0.3.3)\n",
      "Requirement already satisfied: grpcio>=1.8.6 in /Users/henrymaguire/Work/side-projects/one-word-story/ows_language_model/venv/lib/python3.7/site-packages (from tensorflow) (1.33.2)\n",
      "Requirement already satisfied: absl-py>=0.7.0 in /Users/henrymaguire/Work/side-projects/one-word-story/ows_language_model/venv/lib/python3.7/site-packages (from tensorflow) (0.11.0)\n",
      "Requirement already satisfied: opt-einsum>=2.3.2 in /Users/henrymaguire/Work/side-projects/one-word-story/ows_language_model/venv/lib/python3.7/site-packages (from tensorflow) (3.3.0)\n",
      "Requirement already satisfied: wheel>=0.26 in /Users/henrymaguire/Work/side-projects/one-word-story/ows_language_model/venv/lib/python3.7/site-packages (from tensorflow) (0.35.1)\n",
      "Requirement already satisfied: astunparse==1.6.3 in /Users/henrymaguire/Work/side-projects/one-word-story/ows_language_model/venv/lib/python3.7/site-packages (from tensorflow) (1.6.3)\n",
      "Requirement already satisfied: numpy<1.19.0,>=1.16.0 in /Users/henrymaguire/Work/side-projects/one-word-story/ows_language_model/venv/lib/python3.7/site-packages (from tensorflow) (1.18.5)\n",
      "Collecting pyyaml (from keras)\n",
      "Collecting scipy>=0.14 (from keras)\n",
      "  Using cached https://files.pythonhosted.org/packages/a1/63/8b9abaed8ce915dfccb856a25c8a47f96b508a1d7d60d2b7c21d5bb24207/scipy-1.5.3-cp37-cp37m-macosx_10_9_x86_64.whl\n",
      "Requirement already satisfied: setuptools in /Users/henrymaguire/Work/side-projects/one-word-story/ows_language_model/venv/lib/python3.7/site-packages (from protobuf>=3.9.2->tensorflow) (40.8.0)\n",
      "Requirement already satisfied: google-auth-oauthlib<0.5,>=0.4.1 in /Users/henrymaguire/Work/side-projects/one-word-story/ows_language_model/venv/lib/python3.7/site-packages (from tensorboard<3,>=2.3.0->tensorflow) (0.4.2)\n",
      "Requirement already satisfied: werkzeug>=0.11.15 in /Users/henrymaguire/Work/side-projects/one-word-story/ows_language_model/venv/lib/python3.7/site-packages (from tensorboard<3,>=2.3.0->tensorflow) (1.0.1)\n",
      "Requirement already satisfied: google-auth<2,>=1.6.3 in /Users/henrymaguire/Work/side-projects/one-word-story/ows_language_model/venv/lib/python3.7/site-packages (from tensorboard<3,>=2.3.0->tensorflow) (1.23.0)\n",
      "Requirement already satisfied: tensorboard-plugin-wit>=1.6.0 in /Users/henrymaguire/Work/side-projects/one-word-story/ows_language_model/venv/lib/python3.7/site-packages (from tensorboard<3,>=2.3.0->tensorflow) (1.7.0)\n",
      "Requirement already satisfied: requests<3,>=2.21.0 in /Users/henrymaguire/Work/side-projects/one-word-story/ows_language_model/venv/lib/python3.7/site-packages (from tensorboard<3,>=2.3.0->tensorflow) (2.24.0)\n",
      "Requirement already satisfied: markdown>=2.6.8 in /Users/henrymaguire/Work/side-projects/one-word-story/ows_language_model/venv/lib/python3.7/site-packages (from tensorboard<3,>=2.3.0->tensorflow) (3.3.3)\n",
      "Requirement already satisfied: requests-oauthlib>=0.7.0 in /Users/henrymaguire/Work/side-projects/one-word-story/ows_language_model/venv/lib/python3.7/site-packages (from google-auth-oauthlib<0.5,>=0.4.1->tensorboard<3,>=2.3.0->tensorflow) (1.3.0)\n",
      "Requirement already satisfied: cachetools<5.0,>=2.0.0 in /Users/henrymaguire/Work/side-projects/one-word-story/ows_language_model/venv/lib/python3.7/site-packages (from google-auth<2,>=1.6.3->tensorboard<3,>=2.3.0->tensorflow) (4.1.1)\n",
      "Requirement already satisfied: rsa<5,>=3.1.4; python_version >= \"3.5\" in /Users/henrymaguire/Work/side-projects/one-word-story/ows_language_model/venv/lib/python3.7/site-packages (from google-auth<2,>=1.6.3->tensorboard<3,>=2.3.0->tensorflow) (4.6)\n",
      "Requirement already satisfied: pyasn1-modules>=0.2.1 in /Users/henrymaguire/Work/side-projects/one-word-story/ows_language_model/venv/lib/python3.7/site-packages (from google-auth<2,>=1.6.3->tensorboard<3,>=2.3.0->tensorflow) (0.2.8)\n",
      "Requirement already satisfied: urllib3!=1.25.0,!=1.25.1,<1.26,>=1.21.1 in /Users/henrymaguire/Work/side-projects/one-word-story/ows_language_model/venv/lib/python3.7/site-packages (from requests<3,>=2.21.0->tensorboard<3,>=2.3.0->tensorflow) (1.25.11)\n",
      "Requirement already satisfied: certifi>=2017.4.17 in /Users/henrymaguire/Work/side-projects/one-word-story/ows_language_model/venv/lib/python3.7/site-packages (from requests<3,>=2.21.0->tensorboard<3,>=2.3.0->tensorflow) (2020.6.20)\n",
      "Requirement already satisfied: chardet<4,>=3.0.2 in /Users/henrymaguire/Work/side-projects/one-word-story/ows_language_model/venv/lib/python3.7/site-packages (from requests<3,>=2.21.0->tensorboard<3,>=2.3.0->tensorflow) (3.0.4)\n",
      "Requirement already satisfied: idna<3,>=2.5 in /Users/henrymaguire/Work/side-projects/one-word-story/ows_language_model/venv/lib/python3.7/site-packages (from requests<3,>=2.21.0->tensorboard<3,>=2.3.0->tensorflow) (2.10)\n",
      "Requirement already satisfied: importlib-metadata; python_version < \"3.8\" in /Users/henrymaguire/Work/side-projects/one-word-story/ows_language_model/venv/lib/python3.7/site-packages (from markdown>=2.6.8->tensorboard<3,>=2.3.0->tensorflow) (2.0.0)\n",
      "Requirement already satisfied: oauthlib>=3.0.0 in /Users/henrymaguire/Work/side-projects/one-word-story/ows_language_model/venv/lib/python3.7/site-packages (from requests-oauthlib>=0.7.0->google-auth-oauthlib<0.5,>=0.4.1->tensorboard<3,>=2.3.0->tensorflow) (3.1.0)\n",
      "Requirement already satisfied: pyasn1>=0.1.3 in /Users/henrymaguire/Work/side-projects/one-word-story/ows_language_model/venv/lib/python3.7/site-packages (from rsa<5,>=3.1.4; python_version >= \"3.5\"->google-auth<2,>=1.6.3->tensorboard<3,>=2.3.0->tensorflow) (0.4.8)\n",
      "Requirement already satisfied: zipp>=0.5 in /Users/henrymaguire/Work/side-projects/one-word-story/ows_language_model/venv/lib/python3.7/site-packages (from importlib-metadata; python_version < \"3.8\"->markdown>=2.6.8->tensorboard<3,>=2.3.0->tensorflow) (3.4.0)\n",
      "Installing collected packages: pyyaml, scipy, keras\n",
      "Successfully installed keras-2.4.3 pyyaml-5.3.1 scipy-1.5.3\n",
      "\u001b[33mYou are using pip version 19.0.3, however version 20.2.4 is available.\n",
      "You should consider upgrading via the 'pip install --upgrade pip' command.\u001b[0m\n"
     ]
    }
   ],
   "source": [
    "! pip install tensorflow keras"
   ]
  },
  {
   "cell_type": "code",
   "execution_count": 4,
   "metadata": {},
   "outputs": [],
   "source": [
    "from ows_language_model.config import config\n",
    "\n",
    "INTERIM_PATH = config.DATASET_DIR / 'interim'\n",
    "\n",
    "with open(INTERIM_PATH / 'clean_docs.json', 'r') as f:\n",
    "    english_docs = json.load(f)\n",
    "    \n"
   ]
  },
  {
   "cell_type": "code",
   "execution_count": 35,
   "metadata": {},
   "outputs": [
    {
     "data": {
      "text/plain": [
       "('First Citi', ' Produced ')"
      ]
     },
     "execution_count": 35,
     "metadata": {},
     "output_type": "execute_result"
    }
   ],
   "source": [
    "shakespeare_text[0:10], flat_text[0:10]"
   ]
  },
  {
   "cell_type": "code",
   "execution_count": 54,
   "metadata": {},
   "outputs": [],
   "source": [
    "flat_text = [\" \".join(d) for d in english_docs[0:10]]"
   ]
  },
  {
   "cell_type": "code",
   "execution_count": 55,
   "metadata": {},
   "outputs": [],
   "source": [
    "import tensorflow as tf\n",
    "import numpy as np\n",
    "import keras"
   ]
  },
  {
   "cell_type": "code",
   "execution_count": 85,
   "metadata": {},
   "outputs": [],
   "source": [
    "vocab_size = 12000\n",
    "tokenizer = keras.preprocessing.text.Tokenizer(num_words=vocab_size, char_level=False, oov_token='OOV_TOKEN')\n",
    "tokenizer.fit_on_texts(flat_text)"
   ]
  },
  {
   "cell_type": "code",
   "execution_count": 86,
   "metadata": {},
   "outputs": [],
   "source": [
    "max_id = min(len(tokenizer.word_index), vocab_size)\n",
    "dataset_size = tokenizer.document_count"
   ]
  },
  {
   "cell_type": "code",
   "execution_count": 102,
   "metadata": {},
   "outputs": [],
   "source": [
    "encoded = np.array(tokenizer.texts_to_sequences(flat_text))"
   ]
  },
  {
   "cell_type": "code",
   "execution_count": 103,
   "metadata": {},
   "outputs": [],
   "source": [
    "train_size = len(encoded) * 90//100\n",
    "n_steps = 50\n",
    "window_length = n_steps + 1"
   ]
  },
  {
   "cell_type": "code",
   "execution_count": 104,
   "metadata": {},
   "outputs": [],
   "source": [
    "single_doc = encoded[0]"
   ]
  },
  {
   "cell_type": "code",
   "execution_count": 124,
   "metadata": {},
   "outputs": [
    {
     "name": "stdout",
     "output_type": "stream",
     "text": [
      "<TensorSliceDataset shapes: (), types: tf.int32>\n",
      "<BatchDataset shapes: (None, None), types: tf.int32>\n",
      "<MapDataset shapes: ((None, None), (None, None)), types: (tf.int32, tf.int32)>\n",
      "<MapDataset shapes: ((None, None, 12000), (None, None)), types: (tf.float32, tf.int32)>\n"
     ]
    }
   ],
   "source": [
    "batch_size=1\n",
    "dataset = tf.data.Dataset.from_tensor_slices(single_doc)\n",
    "print(dataset)\n",
    "# create dataset of short, non-overlapping windows\n",
    "# each window is a dataset in itself\n",
    "dataset = dataset.window(window_length, shift=n_steps, drop_remainder=True)\n",
    "# convert to flat dataset of {[window_1], [window_2]}\n",
    "dataset = dataset.flat_map(lambda window : window.batch(window_length))\n",
    "dataset = dataset.batch(batch_size)\n",
    "print(dataset)\n",
    "dataset = dataset.map(lambda windows : (windows[:, :-1], windows[:, 1:]))\n",
    "print(dataset)\n",
    "dataset = dataset.map(lambda X_batch, Y_batch: (tf.one_hot(X_batch, depth=max_id), Y_batch))\n",
    "print(dataset)\n",
    "dataset = dataset.prefetch(1)"
   ]
  },
  {
   "cell_type": "code",
   "execution_count": 125,
   "metadata": {},
   "outputs": [],
   "source": [
    "model = keras.models.Sequential([\n",
    "    keras.layers.GRU(128, return_sequences=True, stateful=True,\n",
    "                    dropout=0.2, recurrent_dropout=0.2,\n",
    "                    batch_input_shape=[batch_size, None, max_id]),\n",
    "    keras.layers.GRU(128, return_sequences=True, stateful=True,\n",
    "                    dropout=0.2, recurrent_dropout=0.2,\n",
    "                    batch_input_shape=[batch_size, None, max_id]),\n",
    "    keras.layers.TimeDistributed(keras.layers.Dense(max_id, activation=\"softmax\"))\n",
    "])"
   ]
  },
  {
   "cell_type": "code",
   "execution_count": 187,
   "metadata": {},
   "outputs": [],
   "source": [
    "class ResetStatesCallback(keras.callbacks.Callback):\n",
    "    def on_epoch_begin(self, epoch, logs):\n",
    "        out = complete_text(self.model, 'there once was', n_words=10, temperature = 1)\n",
    "        print(out)\n",
    "        out = complete_text(self.model, 'How many', n_words=10, temperature = 1)\n",
    "        print(out)\n",
    "        self.model.reset_states()"
   ]
  },
  {
   "cell_type": "code",
   "execution_count": 188,
   "metadata": {},
   "outputs": [
    {
     "name": "stdout",
     "output_type": "stream",
     "text": [
      "there once was world my in of this any we still cheating in\n",
      "How many that he lank some not “as he calling which analysis\n",
      "Epoch 1/10\n",
      "724/724 [==============================] - 942s 1s/step - loss: 6.3162\n",
      "there once was basket as plane of do israel happiness shone business room\n",
      "How many to rain to accepted of having steele room climax if\n",
      "Epoch 2/10\n",
      "724/724 [==============================] - 917s 1s/step - loss: 5.8629\n",
      "there once was out you art which of day any write certainly was\n",
      "How many them have perfectly came yet arms honour oil not north\n",
      "Epoch 3/10\n",
      "724/724 [==============================] - 906s 1s/step - loss: 5.6303\n",
      "there once was that fir from of nine him forget one out “my\n",
      "How many will one works orders until did all at that dozen\n",
      "Epoch 4/10\n",
      "724/724 [==============================] - 918s 1s/step - loss: 5.4049\n",
      "there once was herself uses to of their knocks first out my neighbourhood\n",
      "How many about of of for of herself die deliberate his every\n",
      "Epoch 5/10\n",
      "724/724 [==============================] - 925s 1s/step - loss: 5.1904\n",
      "there once was feeling turning a strange your knocks and up is of\n",
      "How many certainly was upon of for so hang it them this\n",
      "Epoch 6/10\n",
      "724/724 [==============================] - 912s 1s/step - loss: 4.9881\n",
      "there once was had now assyria three that “it’s mine to told it\n",
      "How many to up that one to it man sand is of\n",
      "Epoch 7/10\n",
      "724/724 [==============================] - 837s 1s/step - loss: 4.8036\n",
      "there once was be is this mr and he came it before it\n",
      "How many bore out said of me come that of an wrong\n",
      "Epoch 8/10\n",
      "724/724 [==============================] - 837s 1s/step - loss: 4.6301\n",
      "there once was still where of in for these soul to for of\n",
      "How many every see ” you ’ day ” of lull about\n",
      "Epoch 9/10\n",
      "724/724 [==============================] - 835s 1s/step - loss: 4.4704\n",
      "there once was knowledge it ears my watched for ” any the mr\n",
      "How many man you am it must threw joy it acted face\n",
      "Epoch 10/10\n",
      "724/724 [==============================] - 835s 1s/step - loss: 4.3376\n"
     ]
    },
    {
     "data": {
      "text/plain": [
       "<tensorflow.python.keras.callbacks.History at 0x1428738e48>"
      ]
     },
     "execution_count": 188,
     "metadata": {},
     "output_type": "execute_result"
    }
   ],
   "source": [
    "model.compile(loss=\"sparse_categorical_crossentropy\", optimizer=\"adam\")\n",
    "model.fit(dataset, epochs=10, callbacks=[ResetStatesCallback()])"
   ]
  },
  {
   "cell_type": "code",
   "execution_count": 182,
   "metadata": {},
   "outputs": [],
   "source": [
    "def next_word(model, text, temperature=1):\n",
    "    X_new = tokenizer.texts_to_sequences([text])\n",
    "    X_new = tf.one_hot(X_new, depth=max_id)\n",
    "    y_proba = model.predict(X_new)[0, -1:, :]\n",
    "    rescaled_logits = tf.math.log(y_proba)/temperature\n",
    "    word_id = tf.random.categorical(rescaled_logits, num_samples=1)+1\n",
    "    return tokenizer.sequences_to_texts(word_id.numpy())[0]"
   ]
  },
  {
   "cell_type": "code",
   "execution_count": 185,
   "metadata": {},
   "outputs": [],
   "source": [
    "def complete_text(model, text, n_words=10, temperature = 1):\n",
    "    for _ in range(n_words):\n",
    "        text += ' '+ next_word(model, text, temperature=temperature)\n",
    "    return text"
   ]
  },
  {
   "cell_type": "markdown",
   "metadata": {},
   "source": [
    "This model seems to be working. There are a number of problems I have with it.\n",
    "### Problems:\n",
    "- The static graph aspect of this model means that it can only take in the same batch size as it was trained on, unless I do some weird cheap hack with stateless RNNs. Not very satisfying and very restrictive.\n",
    "- The confusing data preparation steps actually make very little sense to me. The APIs don't let you really check what is going on, so I have to just take the Geron book's word for it.\n",
    "\n",
    "### The plan now:\n",
    "\n",
    "- Train a fastai model from the Howard and Gugger book"
   ]
  },
  {
   "cell_type": "code",
   "execution_count": null,
   "metadata": {},
   "outputs": [],
   "source": []
  }
 ],
 "metadata": {
  "kernelspec": {
   "display_name": "Python 3",
   "language": "python",
   "name": "python3"
  },
  "language_info": {
   "codemirror_mode": {
    "name": "ipython",
    "version": 3
   },
   "file_extension": ".py",
   "mimetype": "text/x-python",
   "name": "python",
   "nbconvert_exporter": "python",
   "pygments_lexer": "ipython3",
   "version": "3.7.3"
  }
 },
 "nbformat": 4,
 "nbformat_minor": 4
}
