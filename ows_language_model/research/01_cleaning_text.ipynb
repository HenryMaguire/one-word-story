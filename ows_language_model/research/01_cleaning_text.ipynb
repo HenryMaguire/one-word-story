{
 "cells": [
  {
   "cell_type": "code",
   "execution_count": 1,
   "metadata": {},
   "outputs": [],
   "source": [
    "from ows_language_model.config import config\n",
    "import re"
   ]
  },
  {
   "cell_type": "code",
   "execution_count": 39,
   "metadata": {},
   "outputs": [],
   "source": [
    "TEXT_PATH = config.DATASET_DIR / 'raw'\n",
    "INTERIM_PATH = config.DATASET_DIR / 'interim'"
   ]
  },
  {
   "cell_type": "code",
   "execution_count": 12,
   "metadata": {},
   "outputs": [],
   "source": [
    "docs = []\n",
    "count = 0\n",
    "for filename in TEXT_PATH.iterdir():\n",
    "    with open(filename, \"r\") as f:\n",
    "        docs.append(f.read())\n",
    "        count+=1\n",
    "        if count ==3000:\n",
    "            break"
   ]
  },
  {
   "cell_type": "code",
   "execution_count": 13,
   "metadata": {},
   "outputs": [],
   "source": [
    "start_q1 = re.compile(r\"(?<=START OF THIS PROJECT GUTENBERG EBOOK).{1,150}(?=\\*\\*\\*)\")\n",
    "start_q2 = re.compile(r\"(?<=START OF THE PROJECT GUTENBERG EBOOK).{1,150}(?=\\*\\*\\*)\")\n",
    "end_q1 = re.compile(r\"end of (the|this) project gutenberg ebook\")\n",
    "#end_q2 = re.compile(r\"(?<=START OF THE PROJECT GUTENBERG EBOOK).{1,150}(?=\\*\\*\\*)\")\n"
   ]
  },
  {
   "cell_type": "code",
   "execution_count": 14,
   "metadata": {},
   "outputs": [],
   "source": [
    "total_names = {}\n",
    "smissed = []\n",
    "emissed = []\n",
    "for d in docs:\n",
    "    d_ = re.sub('\\n', \"<\", d)\n",
    "    ms = [f for f in re.finditer(start_q1, d_)]\n",
    "    ms += [f for f in re.finditer(start_q2, d_)]\n",
    "    title_start_end = []\n",
    "    if len(ms):\n",
    "        match = ms[0]\n",
    "        name = re.sub(\"<\", \" \", match.group(0).strip())\n",
    "        title_start_end += [name, match.start()]\n",
    "    else:\n",
    "        title_start_end += [\"\", 0]\n",
    "        smissed.append(d)\n",
    "    \n",
    "    ms = [f for f in re.finditer(end_q1, d_.lower())]\n",
    "    if len(ms):\n",
    "        match = ms[0]\n",
    "        title_start_end.append(match.start())\n",
    "        total_names[name] = d[title_start_end[1]:title_start_end[2]]\n",
    "    else:\n",
    "        title_start_end += [-1]\n",
    "        emissed.append(d)"
   ]
  },
  {
   "cell_type": "code",
   "execution_count": 15,
   "metadata": {},
   "outputs": [
    {
     "data": {
      "text/plain": [
       "(2955, 3000, 3, 1)"
      ]
     },
     "execution_count": 15,
     "metadata": {},
     "output_type": "execute_result"
    }
   ],
   "source": [
    "len(total_names), len(docs), len(smissed), len(emissed)"
   ]
  },
  {
   "cell_type": "code",
   "execution_count": 210,
   "metadata": {},
   "outputs": [],
   "source": [
    "flat_text = \"\"\n",
    "for text_ in total_names.values():\n",
    "    flat_text+= re.sub(\" +\", \" \", text_) + \" <END_OF_DOC> \""
   ]
  },
  {
   "cell_type": "code",
   "execution_count": 17,
   "metadata": {},
   "outputs": [],
   "source": []
  },
  {
   "cell_type": "code",
   "execution_count": 51,
   "metadata": {},
   "outputs": [],
   "source": [
    "from collections import Counter\n",
    "\n",
    "def clean_doc(doc):\n",
    "    doc = re.sub(capital_words, \"\", doc)\n",
    "    cds = []\n",
    "    for d_ in doc.split(\"\\n\\n\\n\\n\"):\n",
    "        if len(d_) > 150:\n",
    "            d_ = re.sub('\\-+', '-', d_)\n",
    "            d_ = re.sub('\\.{4,100}', '.', d_)\n",
    "            d_ = re.sub('\\s+', ' ', d_)\n",
    "            if len(d_)>50:\n",
    "                cds.append(d_)\n",
    "        else:\n",
    "            #print(d_)\n",
    "            pass\n",
    "    return cds"
   ]
  },
  {
   "cell_type": "code",
   "execution_count": 52,
   "metadata": {},
   "outputs": [],
   "source": [
    "capital_words = re.compile(r\"\\b[A-Z\\s\\.]+[A-Z]\\b\")\n",
    "english_docs = []\n",
    "non_english = []\n",
    "for doc_name, doc_text in total_names.items():\n",
    "    most_common_word = Counter(doc_text.lower().split()).most_common()[0][0]\n",
    "    if most_common_word == 'the':\n",
    "        english_docs.append(clean_doc(doc_text))\n",
    "    else:\n",
    "        non_english.append(doc_name)"
   ]
  },
  {
   "cell_type": "code",
   "execution_count": 53,
   "metadata": {},
   "outputs": [],
   "source": [
    "with open(INTERIM_PATH / 'clean_docs.json', 'w') as f:\n",
    "    json.dump(english_docs, f)"
   ]
  },
  {
   "cell_type": "code",
   "execution_count": null,
   "metadata": {},
   "outputs": [],
   "source": []
  }
 ],
 "metadata": {
  "kernelspec": {
   "display_name": "Python 3",
   "language": "python",
   "name": "python3"
  },
  "language_info": {
   "codemirror_mode": {
    "name": "ipython",
    "version": 3
   },
   "file_extension": ".py",
   "mimetype": "text/x-python",
   "name": "python",
   "nbconvert_exporter": "python",
   "pygments_lexer": "ipython3",
   "version": "3.7.3"
  }
 },
 "nbformat": 4,
 "nbformat_minor": 4
}
